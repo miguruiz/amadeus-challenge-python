{
 "cells": [
  {
   "cell_type": "markdown",
   "metadata": {},
   "source": [
    "# AMADEUS CHALLENGE"
   ]
  },
  {
   "cell_type": "code",
   "execution_count": 1,
   "metadata": {},
   "outputs": [
    {
     "name": "stdout",
     "output_type": "stream",
     "text": [
      "total 7755000\r\n",
      "drwxrwxr-x 4 dsc dsc       4096 may 28 00:14 amadeus_challenge\r\n",
      "-rw-rw-r-- 1 dsc dsc 4244874509 abr  2  2018 bookings.csv\r\n",
      "-rw-rw-r-- 1 dsc dsc 3696229366 abr  2  2018 searches.csv\r\n"
     ]
    }
   ],
   "source": [
    "#name of files\n",
    "!ls -l ../"
   ]
  },
  {
   "cell_type": "code",
   "execution_count": 2,
   "metadata": {},
   "outputs": [],
   "source": [
    "#import libraries\n",
    "import pandas as pd"
   ]
  },
  {
   "cell_type": "code",
   "execution_count": 3,
   "metadata": {},
   "outputs": [],
   "source": [
    "#Exploring"
   ]
  },
  {
   "cell_type": "markdown",
   "metadata": {},
   "source": [
    "## Exercise 1: Count the number of lines in Python for each line"
   ]
  },
  {
   "cell_type": "code",
   "execution_count": 4,
   "metadata": {},
   "outputs": [],
   "source": [
    "#Read files with only one column to reduce the size of the file\n",
    "bookings_reader=pd.read_csv(\"../bookings.csv\", delimiter=\"^\", iterator=True, chunksize = 10000, usecols=[0])\n",
    "searches_reader=pd.read_csv(\"../searches.csv\", delimiter=\"^\", iterator=True, chunksize = 10000, usecols=[0])\n"
   ]
  },
  {
   "cell_type": "code",
   "execution_count": 6,
   "metadata": {},
   "outputs": [],
   "source": [
    "def file_lines (file):\n",
    "    length = 0\n",
    "    for b_chunk in file:\n",
    "        length += b_chunk.shape[0]\n",
    "        print(\"*\", end=\"\")\n",
    "    return length\n",
    "\n",
    "bookings_len = file_lines(reader_bookings)\n",
    "searches_len = file_lines(searches)\n",
    "\n",
    "print(\"Total lines of 'bookings.csv': {}\".format(bookings_len))\n",
    "print(\"Total lines of 'searches.csv': {}\".format(searches_len))"
   ]
  },
  {
   "cell_type": "code",
   "execution_count": 51,
   "metadata": {},
   "outputs": [],
   "source": [
    "#pending.... Check for insosisnte date\n",
    "#print(bookings_chunk[\"arr_port\"].isnull().sum())"
   ]
  },
  {
   "cell_type": "code",
   "execution_count": 52,
   "metadata": {},
   "outputs": [],
   "source": [
    "#Clean file\n",
    "#Bookings_first_chunk = "
   ]
  },
  {
   "cell_type": "markdown",
   "metadata": {},
   "source": [
    "## Exercise 2: Top 10 arrivals"
   ]
  },
  {
   "cell_type": "code",
   "execution_count": 50,
   "metadata": {},
   "outputs": [
    {
     "name": "stdout",
     "output_type": "stream",
     "text": [
      "finished\n"
     ]
    }
   ],
   "source": [
    "#Read file including only \"arr_port\" and \"pax\" to calculate top 10 airports\n",
    "chunks_booking=pd.read_csv(\"../bookings.csv\", names=[\"arr_port\",\"pax\"],delimiter=\"^\", iterator=True, chunksize = 10000 )#names=[arr_port,pax]"
   ]
  },
  {
   "cell_type": "code",
   "execution_count": 54,
   "metadata": {},
   "outputs": [],
   "source": [
    "#Read all the chuncks aggregate data by airport (\"arr_port\") adding the bookings passangers (\"pax\")\n",
    "pieces = [x.groupby('arr_port')['pax'].agg(['sum']) for x in chunks_booking]\n",
    "\n",
    "#Concatenate all the pieces\n",
    "agg = pd.concat(pieces).groupby(level=0).sum()"
   ]
  },
  {
   "cell_type": "code",
   "execution_count": 48,
   "metadata": {},
   "outputs": [
    {
     "data": {
      "text/plain": [
       "arr_port\n",
       "LHR         88809.0\n",
       "MCO         70930.0\n",
       "LAX         70530.0\n",
       "LAS         69630.0\n",
       "JFK         66270.0\n",
       "CDG         64490.0\n",
       "BKK         59460.0\n",
       "MIA         58150.0\n",
       "SFO         58000.0\n",
       "DXB         55590.0\n",
       "Name: sum, dtype: float64"
      ]
     },
     "execution_count": 48,
     "metadata": {},
     "output_type": "execute_result"
    }
   ],
   "source": [
    "#Display top 10 by nomber of passangers\n",
    "agg.iloc[:,0].sort_values(ascending=False).head(10)"
   ]
  }
 ],
 "metadata": {
  "kernelspec": {
   "display_name": "Python 3",
   "language": "python",
   "name": "python3"
  },
  "language_info": {
   "codemirror_mode": {
    "name": "ipython",
    "version": 3
   },
   "file_extension": ".py",
   "mimetype": "text/x-python",
   "name": "python",
   "nbconvert_exporter": "python",
   "pygments_lexer": "ipython3",
   "version": "3.7.1"
  }
 },
 "nbformat": 4,
 "nbformat_minor": 2
}
