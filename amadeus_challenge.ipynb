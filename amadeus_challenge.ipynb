{
 "cells": [
  {
   "cell_type": "markdown",
   "metadata": {},
   "source": [
    "# AMADEUS CHALLENGE"
   ]
  },
  {
   "cell_type": "code",
   "execution_count": 1,
   "metadata": {},
   "outputs": [
    {
     "name": "stdout",
     "output_type": "stream",
     "text": [
      "total 7755000\r\n",
      "drwxrwxr-x 4 dsc dsc       4096 may 28 00:14 amadeus_challenge\r\n",
      "-rw-rw-r-- 1 dsc dsc 4244874509 abr  2  2018 bookings.csv\r\n",
      "-rw-rw-r-- 1 dsc dsc 3696229366 abr  2  2018 searches.csv\r\n"
     ]
    }
   ],
   "source": [
    "#name of files\n",
    "!ls -l ../"
   ]
  },
  {
   "cell_type": "code",
   "execution_count": 2,
   "metadata": {},
   "outputs": [],
   "source": [
    "#import libraries\n",
    "import pandas as pd"
   ]
  },
  {
   "cell_type": "code",
   "execution_count": 3,
   "metadata": {},
   "outputs": [],
   "source": [
    "#Exploring"
   ]
  },
  {
   "cell_type": "code",
   "execution_count": 4,
   "metadata": {},
   "outputs": [],
   "source": [
    "#Read files\n",
    "reader_bookings=pd.read_csv(\"../bookings.csv\", delimiter=\"^\", iterator=True, chunksize = 10000, usecols=[0])\n",
    "searches=pd.read_csv(\"../searches.csv\", delimiter=\"^\", iterator=True, chunksize = 10000, usecols=[0])\n"
   ]
  },
  {
   "cell_type": "markdown",
   "metadata": {},
   "source": [
    "## Exercise 1: Count the number of lines in Python for each line"
   ]
  },
  {
   "cell_type": "code",
   "execution_count": 5,
   "metadata": {},
   "outputs": [],
   "source": [
    "#reader_bookings=pd.read_csv(\"../bookings.csv\", delimiter=\"^\",names=[\"act_date\"])\n",
    "#reader_bookings.shape\n"
   ]
  },
  {
   "cell_type": "code",
   "execution_count": 6,
   "metadata": {},
   "outputs": [],
   "source": [
    "def file_lines (file):\n",
    "    length = 0\n",
    "    for b_chunk in file:\n",
    "        length += b_chunk.shape[0]\n",
    "        print(\"*\", end=\"\")\n",
    "    return length\n",
    "\n",
    "#bookings_len = file_lines(reader_bookings)\n",
    "#searches_len = file_lines(searches)\n",
    "\n",
    "#print(\"Total lines of 'bookings.csv': {}\".format(bookings_len))\n",
    "#print(\"Total lines of 'searches.csv': {}\".format(searches_len))\n"
   ]
  },
  {
   "cell_type": "code",
   "execution_count": 39,
   "metadata": {},
   "outputs": [
    {
     "name": "stdout",
     "output_type": "stream",
     "text": [
      "finished\n"
     ]
    }
   ],
   "source": [
    "chunks_booking=pd.read_csv(\"../bookings.csv\", delimiter=\"^\", iterator=True, chunksize = 10000 )#names=[arr_port,pax]\n",
    "print(\"finished\")"
   ]
  },
  {
   "cell_type": "code",
   "execution_count": 40,
   "metadata": {},
   "outputs": [],
   "source": [
    "#pending.... Check for insosisnte date\n",
    "#print(bookings_chunk[\"arr_port\"].isnull().sum())"
   ]
  },
  {
   "cell_type": "code",
   "execution_count": 41,
   "metadata": {},
   "outputs": [],
   "source": [
    "#Clean file\n",
    "#Bookings_first_chunk = "
   ]
  },
  {
   "cell_type": "markdown",
   "metadata": {},
   "source": [
    "## Exercise 2: Top 10 arrivals"
   ]
  },
  {
   "cell_type": "code",
   "execution_count": 42,
   "metadata": {},
   "outputs": [],
   "source": [
    "#JFK = 195"
   ]
  },
  {
   "cell_type": "code",
   "execution_count": null,
   "metadata": {},
   "outputs": [],
   "source": [
    "pieces = [x.groupby('arr_port')['pax'].agg(['sum']) for x in chunks_booking]\n",
    "agg = pd.concat(pieces).groupby(level=0).sum()\n",
    "agg.iloc[:,0].sort_values(ascending=False).head(10)\n"
   ]
  },
  {
   "cell_type": "code",
   "execution_count": null,
   "metadata": {},
   "outputs": [],
   "source": []
  }
 ],
 "metadata": {
  "kernelspec": {
   "display_name": "Python 3",
   "language": "python",
   "name": "python3"
  },
  "language_info": {
   "codemirror_mode": {
    "name": "ipython",
    "version": 3
   },
   "file_extension": ".py",
   "mimetype": "text/x-python",
   "name": "python",
   "nbconvert_exporter": "python",
   "pygments_lexer": "ipython3",
   "version": "3.7.1"
  }
 },
 "nbformat": 4,
 "nbformat_minor": 2
}
